{
 "cells": [
  {
   "cell_type": "code",
   "execution_count": 3,
   "id": "ce568892-5ed7-4287-8f28-5419cddfbe82",
   "metadata": {},
   "outputs": [
    {
     "name": "stdin",
     "output_type": "stream",
     "text": [
      "Enter the amount: -90\n"
     ]
    },
    {
     "name": "stdout",
     "output_type": "stream",
     "text": [
      "Negative\n"
     ]
    }
   ],
   "source": [
    "#1.Categorizing transactions\n",
    "amount=int(input(\"Enter the amount:\"))\n",
    "if amount==0:\n",
    "    print(\"Zero\")\n",
    "elif amount>0:\n",
    "    print(\"Positive\")\n",
    "else:\n",
    "    print(\"Negative\")\n",
    "    \n",
    "\n"
   ]
  },
  {
   "cell_type": "code",
   "execution_count": 5,
   "id": "9583da60-1f85-4003-87c3-dba9e25ad77f",
   "metadata": {},
   "outputs": [
    {
     "name": "stdin",
     "output_type": "stream",
     "text": [
      "Enter the numerical password: 12345678\n"
     ]
    },
    {
     "name": "stdout",
     "output_type": "stream",
     "text": [
      "36\n"
     ]
    }
   ],
   "source": [
    "#2.Sum of digits \n",
    "password=list(input(\"Enter the numerical password:\"))\n",
    "password_num=list(map(int,password))\n",
    "sum=0\n",
    "for num in password_num:\n",
    "    sum+=num\n",
    "print(sum)"
   ]
  },
  {
   "cell_type": "code",
   "execution_count": 10,
   "id": "eb80358f-752f-4c6c-96bb-6f4ad0210b2a",
   "metadata": {},
   "outputs": [
    {
     "name": "stdin",
     "output_type": "stream",
     "text": [
      "Enter the transaction ID: 1234\n"
     ]
    },
    {
     "name": "stdout",
     "output_type": "stream",
     "text": [
      "4321\n"
     ]
    }
   ],
   "source": [
    "#3.Take a number and return reverse \n",
    "trans_ID=input(\"Enter the transaction ID:\")[::-1]\n",
    "print(trans_ID)\n",
    "\n"
   ]
  },
  {
   "cell_type": "code",
   "execution_count": 11,
   "id": "3d92504f-c3bf-48b3-9ef7-c459b7c0d552",
   "metadata": {},
   "outputs": [
    {
     "name": "stdin",
     "output_type": "stream",
     "text": [
      "Enter your User-ID: 23\n"
     ]
    },
    {
     "name": "stdout",
     "output_type": "stream",
     "text": [
      "Feature Enabled\n"
     ]
    }
   ],
   "source": [
    "#4.Prime number test\n",
    "user_id=int(input(\"Enter your User-ID:\"))\n",
    "def is_prime(n):\n",
    "    if n < 2:\n",
    "        return False\n",
    "    if n < 4:\n",
    "        return True\n",
    "    if n % 2==0 or n % 3==0:\n",
    "        return False\n",
    "    for i in range(2, int(n ** 0.5) + 1):\n",
    "        if n % i == 0:\n",
    "            return False\n",
    "    return True\n",
    "if is_prime(user_id):\n",
    "    print(\"Feature Enabled\")\n",
    "else:\n",
    "    print(\"Feature Not Enabled\")\n",
    "    \n"
   ]
  },
  {
   "cell_type": "code",
   "execution_count": 16,
   "id": "dfaa1e12-c6d1-4dad-a9f6-2f313b51915b",
   "metadata": {},
   "outputs": [
    {
     "name": "stdin",
     "output_type": "stream",
     "text": [
      "Enter a number: 5\n"
     ]
    },
    {
     "name": "stdout",
     "output_type": "stream",
     "text": [
      "120\n"
     ]
    }
   ],
   "source": [
    "#5.Find factorial using recursion \n",
    "def fact(n):\n",
    "    if n<=0:\n",
    "        return 1\n",
    "    return n*fact(n-1)\n",
    "num=int(input(\"Enter a number:\"))\n",
    "print(fact(num))"
   ]
  },
  {
   "cell_type": "code",
   "execution_count": 1,
   "id": "2957f047-ab7c-4150-986b-565b7aca864f",
   "metadata": {},
   "outputs": [
    {
     "name": "stdin",
     "output_type": "stream",
     "text": [
      "Enter a number: 153\n"
     ]
    },
    {
     "name": "stdout",
     "output_type": "stream",
     "text": [
      "Armstrong\n"
     ]
    }
   ],
   "source": [
    "#6.Armstrong number or not \n",
    "num=int(input(\"Enter a number:\"))\n",
    "count=0# simplification count=len(str(num))\n",
    "def no_of_digits(n):#counting the no of digits in a numeral\n",
    "    global count\n",
    "    if n==0:\n",
    "        count+=1\n",
    "    else:\n",
    "        while n>0:\n",
    "            n=n//10\n",
    "            count+=1\n",
    "    return sum_of_digits(num,count)\n",
    "\n",
    "ext_digits=list(map(int,str(num)))# converting a int to a list \n",
    "sum_=0\n",
    "def sum_of_digits(n,count):\n",
    "    global sum_\n",
    "    for n in ext_digits:\n",
    "        sum_+=(n**count)\n",
    "    return sum_\n",
    "\n",
    "if no_of_digits(num)== num:\n",
    "    print(\"Armstrong\")\n",
    "else:\n",
    "    print(\"Not armstrong\")"
   ]
  },
  {
   "cell_type": "code",
   "execution_count": 6,
   "id": "308a2091-a1d0-4658-8409-4d9bc459cb4a",
   "metadata": {},
   "outputs": [
    {
     "name": "stdin",
     "output_type": "stream",
     "text": [
      "Enter the password: 1234\n"
     ]
    },
    {
     "name": "stdout",
     "output_type": "stream",
     "text": [
      "4231\n"
     ]
    }
   ],
   "source": [
    "#7.swapping of first and last characters\n",
    "password=list(input(\"Enter the password:\"))#converting a string into a list as str is immutable\n",
    "(password[0],password[-1])=(password[-1],password[0])#swap using a tuple\n",
    "new_password=''.join(password)#converting list back to str\n",
    "print(new_password)"
   ]
  },
  {
   "cell_type": "code",
   "execution_count": 18,
   "id": "a0ad4b9d-c0af-4228-8a33-81391ce3ebfc",
   "metadata": {},
   "outputs": [
    {
     "name": "stdin",
     "output_type": "stream",
     "text": [
      "Enter a decimal number: 23\n"
     ]
    },
    {
     "name": "stdout",
     "output_type": "stream",
     "text": [
      "The binary equivalent of 23 is 10111\n",
      "10111\n"
     ]
    }
   ],
   "source": [
    "#8.converting decimal(base 10) to binary(base 2)\n",
    "decimal=int(input(\"Enter a decimal number:\"))\n",
    "binary=f\"{decimal:b}\"# or binary=format(decimal,'b') both f and format takes \"int\" as an \"argument\" and \"return\" binary as \"str\" \n",
    "print(f\"The binary equivalent of {decimal} is {binary}\")\n",
    "#another function called binary_extra=bin(decimal) this takes a \"int\" as an \"arguement\" and \"return\" a \"str\" with extra 0b with binary\n",
    "#binary=binary_extra[2:]\n",
    "binary_extra=bin(decimal)\n",
    "binary_bin=binary_extra[2:]\n",
    "print(binary_bin)"
   ]
  },
  {
   "cell_type": "code",
   "execution_count": 20,
   "id": "4a711f49-9aa9-46a0-b37a-40d7eb6d5327",
   "metadata": {},
   "outputs": [
    {
     "name": "stdin",
     "output_type": "stream",
     "text": [
      "Enter a sentence: Hi I am Sree Varsha \n"
     ]
    },
    {
     "name": "stdout",
     "output_type": "stream",
     "text": [
      "Varsha\n"
     ]
    }
   ],
   "source": [
    "#9.longest word in a sentence \n",
    "list_of_words=input(\"Enter a sentence:\").split()\n",
    "lon_word=\"\"\n",
    "for word in list_of_words:\n",
    "    if len(word)>len(lon_word):\n",
    "        lon_word=word\n",
    "print(lon_word)\n",
    "        \n",
    "    \n",
    "    "
   ]
  },
  {
   "cell_type": "code",
   "execution_count": 25,
   "id": "61f45c4c-94f0-491f-903c-84156a79e269",
   "metadata": {},
   "outputs": [
    {
     "name": "stdin",
     "output_type": "stream",
     "text": [
      "Enter a sentence: apple\n",
      "Enter another sentence: elppa\n"
     ]
    },
    {
     "name": "stdout",
     "output_type": "stream",
     "text": [
      "Anagrams\n"
     ]
    }
   ],
   "source": [
    "#10.check for anagrams\n",
    "sen1=input(\"Enter a sentence:\")\n",
    "sen2=input(\"Enter another sentence:\")\n",
    "sen1_sort=sorted(sen1)\n",
    "sen2_sort=sorted(sen2)\n",
    "def is_anagrams(s1,s2,s1sort,s2sort):\n",
    "    if len(s1)==len(s2):\n",
    "        return s1sort==s2sort\n",
    "    return False \n",
    "if is_anagrams(sen1,sen2,sen1_sort,sen2_sort):\n",
    "    print(\"Anagrams\")\n",
    "else:\n",
    "    print(\"Not Anagarams\")\n",
    "\n",
    "    "
   ]
  },
  {
   "cell_type": "code",
   "execution_count": null,
   "id": "bda053a1-fa05-415c-9917-5b5b8216e4ea",
   "metadata": {},
   "outputs": [],
   "source": []
  }
 ],
 "metadata": {
  "kernelspec": {
   "display_name": "Python [conda env:base] *",
   "language": "python",
   "name": "conda-base-py"
  },
  "language_info": {
   "codemirror_mode": {
    "name": "ipython",
    "version": 3
   },
   "file_extension": ".py",
   "mimetype": "text/x-python",
   "name": "python",
   "nbconvert_exporter": "python",
   "pygments_lexer": "ipython3",
   "version": "3.13.5"
  }
 },
 "nbformat": 4,
 "nbformat_minor": 5
}
