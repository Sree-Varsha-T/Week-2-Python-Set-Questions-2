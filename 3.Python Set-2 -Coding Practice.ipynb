{
 "cells": [
  {
   "cell_type": "code",
   "execution_count": 11,
   "id": "9f8b59da-6d83-41f1-a78d-a822f90c16cd",
   "metadata": {},
   "outputs": [
    {
     "name": "stdin",
     "output_type": "stream",
     "text": [
      "Enter a word: hello\n"
     ]
    },
    {
     "name": "stdout",
     "output_type": "stream",
     "text": [
      "olleh\n"
     ]
    },
    {
     "name": "stdin",
     "output_type": "stream",
     "text": [
      "Enter a word: hello\n"
     ]
    },
    {
     "name": "stdout",
     "output_type": "stream",
     "text": [
      "olleh\n"
     ]
    }
   ],
   "source": [
    "'''1.Write a Python program to find the reverse of a string. Expected Output (for input \"hello\"):\n",
    "olleh'''\n",
    "list_of_string = list(input(\"Enter a word:\"))\n",
    "list_of_string_reverse=reversed(list_of_string)\n",
    "string_reverse=''.join(list_of_string_reverse)\n",
    "print(string_reverse)\n",
    "#reverse using [::-1] \n",
    "string = input(\"Enter a word:\")\n",
    "string_reversed = string[::-1]\n",
    "print(string_reversed)"
   ]
  },
  {
   "cell_type": "code",
   "execution_count": 15,
   "id": "24740a97-2fb4-48b9-8d30-39a6f3075cce",
   "metadata": {},
   "outputs": [
    {
     "name": "stdout",
     "output_type": "stream",
     "text": [
      "0 1 1 2 3 5 8 13 21 34\n"
     ]
    }
   ],
   "source": [
    "'''2.Write a Python program to generate the Fibonacci sequence up to 10 terms.\n",
    "Expected Output:\n",
    "0 1 1 2 3 5 8 13 21 34'''\n",
    "fib_seq=[0,1]\n",
    "for item in range(2,10):\n",
    "    fib_seq.append(fib_seq[-1] + fib_seq[-2])\n",
    "fib_seq_str=list(map(str,fib_seq))\n",
    "seq=' '.join(fib_seq_str)\n",
    "print(seq)\n"
   ]
  },
  {
   "cell_type": "code",
   "execution_count": 1,
   "id": "a2d6cf32-835f-4003-a4ba-d9012fb511a3",
   "metadata": {},
   "outputs": [
    {
     "name": "stdin",
     "output_type": "stream",
     "text": [
      "Enter a word: madam\n"
     ]
    },
    {
     "name": "stdout",
     "output_type": "stream",
     "text": [
      "madam is a pallindrome\n"
     ]
    }
   ],
   "source": [
    "'''3.Write a Python function to check if a given string is a palindrome.\n",
    "Expected Output (for input \"madam\"):\n",
    "madam is a palindrome'''\n",
    "string=input(\"Enter a word:\")\n",
    "list_of_string = list(string)\n",
    "list_of_string_reverse=reversed(list_of_string)\n",
    "string_reverse=''.join(list_of_string_reverse)\n",
    "print(f\"{string} is a pallindrome\") if string == string_reverse else print(f\"{string} is Not a pallindrome\")  \n"
   ]
  },
  {
   "cell_type": "code",
   "execution_count": 3,
   "id": "a4e75b31-efa5-4acf-aa15-e80bf0f6583f",
   "metadata": {},
   "outputs": [
    {
     "name": "stdin",
     "output_type": "stream",
     "text": [
      "Enter a word: education\n"
     ]
    },
    {
     "name": "stdout",
     "output_type": "stream",
     "text": [
      "Number of vowels: 5\n"
     ]
    }
   ],
   "source": [
    "'''4.Write a Python program to count the number of vowels in a given string. \n",
    "Expected Output (for input \"education\"):\n",
    "\n",
    "Number of vowels: 5'''\n",
    "string=input(\"Enter a word:\")\n",
    "no_of_vowels=0\n",
    "for character in range(len(string)):\n",
    "    if string[character] in 'aeiouAEIOU':\n",
    "        no_of_vowels+=1\n",
    "print(f\"Number of vowels: {no_of_vowels}\")\n",
    "    "
   ]
  },
  {
   "cell_type": "code",
   "execution_count": 12,
   "id": "7cbc823c-6a13-4b88-bdbe-73a92f474c53",
   "metadata": {},
   "outputs": [
    {
     "name": "stdin",
     "output_type": "stream",
     "text": [
      "Enter numbers separated by commas: 1,2,2,3,4,4,5\n"
     ]
    },
    {
     "name": "stdout",
     "output_type": "stream",
     "text": [
      "[1, 2, 3, 4, 5]\n"
     ]
    }
   ],
   "source": [
    "'''5.Write a Python program to remove duplicates from a list.\n",
    "Expected Output (for input [1, 2, 2, 3, 4, 4, 5]):\n",
    "\n",
    " [1, 2, 3, 4, 5]'''\n",
    "list_of_nums=list(map(int,input(\"Enter numbers separated by commas:\").split(',')))\n",
    "sorted_list_of_nums=sorted(list_of_nums)\n",
    "new_list=[]\n",
    "for num in sorted_list_of_nums:\n",
    "    if num not in new_list:\n",
    "        new_list.append(num)\n",
    "print(new_list)\n"
   ]
  }
 ],
 "metadata": {
  "kernelspec": {
   "display_name": "Python [conda env:base] *",
   "language": "python",
   "name": "conda-base-py"
  },
  "language_info": {
   "codemirror_mode": {
    "name": "ipython",
    "version": 3
   },
   "file_extension": ".py",
   "mimetype": "text/x-python",
   "name": "python",
   "nbconvert_exporter": "python",
   "pygments_lexer": "ipython3",
   "version": "3.13.5"
  }
 },
 "nbformat": 4,
 "nbformat_minor": 5
}
